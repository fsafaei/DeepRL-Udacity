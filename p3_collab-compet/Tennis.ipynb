{
 "cells": [
  {
   "cell_type": "markdown",
   "metadata": {},
   "source": [
    "# Collaboration and Competition\n",
    "\n",
    "---\n",
    "\n",
    "You are welcome to use this coding environment to train your agent for the project.  Follow the instructions below to get started!\n",
    "\n",
    "### 1. Start the Environment\n",
    "\n",
    "Run the next code cell to install a few packages.  This line will take a few minutes to run!"
   ]
  },
  {
   "cell_type": "code",
   "execution_count": 1,
   "metadata": {},
   "outputs": [],
   "source": [
    "!pip -q install ./python"
   ]
  },
  {
   "cell_type": "markdown",
   "metadata": {},
   "source": [
    "The environment is already saved in the Workspace and can be accessed at the file path provided below. "
   ]
  },
  {
   "cell_type": "code",
   "execution_count": 2,
   "metadata": {},
   "outputs": [
    {
     "name": "stderr",
     "output_type": "stream",
     "text": [
      "INFO:unityagents:\n",
      "'Academy' started successfully!\n",
      "Unity Academy name: Academy\n",
      "        Number of Brains: 1\n",
      "        Number of External Brains : 1\n",
      "        Lesson number : 0\n",
      "        Reset Parameters :\n",
      "\t\t\n",
      "Unity brain name: TennisBrain\n",
      "        Number of Visual Observations (per agent): 0\n",
      "        Vector Observation space type: continuous\n",
      "        Vector Observation space size (per agent): 8\n",
      "        Number of stacked Vector Observation: 3\n",
      "        Vector Action space type: continuous\n",
      "        Vector Action space size (per agent): 2\n",
      "        Vector Action descriptions: , \n"
     ]
    }
   ],
   "source": [
    "from unityagents import UnityEnvironment\n",
    "import numpy as np\n",
    "\n",
    "env = UnityEnvironment(file_name=\"/data/Tennis_Linux_NoVis/Tennis\")"
   ]
  },
  {
   "cell_type": "markdown",
   "metadata": {},
   "source": [
    "Environments contain **_brains_** which are responsible for deciding the actions of their associated agents. Here we check for the first brain available, and set it as the default brain we will be controlling from Python."
   ]
  },
  {
   "cell_type": "code",
   "execution_count": 3,
   "metadata": {},
   "outputs": [],
   "source": [
    "# get the default brain\n",
    "brain_name = env.brain_names[0]\n",
    "brain = env.brains[brain_name]"
   ]
  },
  {
   "cell_type": "markdown",
   "metadata": {},
   "source": [
    "### 2. Examine the State and Action Spaces\n",
    "\n",
    "Run the code cell below to print some information about the environment."
   ]
  },
  {
   "cell_type": "code",
   "execution_count": 4,
   "metadata": {},
   "outputs": [
    {
     "name": "stdout",
     "output_type": "stream",
     "text": [
      "Number of agents: 2\n",
      "Size of each action: 2\n",
      "There are 2 agents. Each observes a state with length: 24\n",
      "The state for the first agent looks like: [ 0.          0.          0.          0.          0.          0.          0.\n",
      "  0.          0.          0.          0.          0.          0.          0.\n",
      "  0.          0.         -6.65278625 -1.5        -0.          0.\n",
      "  6.83172083  6.         -0.          0.        ]\n"
     ]
    }
   ],
   "source": [
    "# reset the environment\n",
    "env_info = env.reset(train_mode=True)[brain_name]\n",
    "\n",
    "# number of agents \n",
    "num_agents = len(env_info.agents)\n",
    "print('Number of agents:', num_agents)\n",
    "\n",
    "# size of each action\n",
    "action_size = brain.vector_action_space_size\n",
    "print('Size of each action:', action_size)\n",
    "\n",
    "# examine the state space \n",
    "states = env_info.vector_observations\n",
    "state_size = states.shape[1]\n",
    "print('There are {} agents. Each observes a state with length: {}'.format(states.shape[0], state_size))\n",
    "print('The state for the first agent looks like:', states[0])"
   ]
  },
  {
   "cell_type": "markdown",
   "metadata": {},
   "source": [
    "### 3. Take Random Actions in the Environment\n",
    "\n",
    "In the next code cell, you will learn how to use the Python API to control the agent and receive feedback from the environment.\n",
    "\n",
    "Note that **in this coding environment, you will not be able to watch the agents while they are training**, and you should set `train_mode=True` to restart the environment."
   ]
  },
  {
   "cell_type": "code",
   "execution_count": 5,
   "metadata": {},
   "outputs": [
    {
     "name": "stdout",
     "output_type": "stream",
     "text": [
      "Total score (averaged over agents) this episode: -0.004999999888241291\n",
      "Total score (averaged over agents) this episode: 0.04500000085681677\n",
      "Total score (averaged over agents) this episode: -0.004999999888241291\n",
      "Total score (averaged over agents) this episode: -0.004999999888241291\n",
      "Total score (averaged over agents) this episode: -0.004999999888241291\n"
     ]
    }
   ],
   "source": [
    "for i in range(5):                                         # play game for 5 episodes\n",
    "    env_info = env.reset(train_mode=False)[brain_name]     # reset the environment    \n",
    "    states = env_info.vector_observations                  # get the current state (for each agent)\n",
    "    scores = np.zeros(num_agents)                          # initialize the score (for each agent)\n",
    "    while True:\n",
    "        actions = np.random.randn(num_agents, action_size) # select an action (for each agent)\n",
    "        actions = np.clip(actions, -1, 1)                  # all actions between -1 and 1\n",
    "        env_info = env.step(actions)[brain_name]           # send all actions to tne environment\n",
    "        next_states = env_info.vector_observations         # get next state (for each agent)\n",
    "        rewards = env_info.rewards                         # get reward (for each agent)\n",
    "        dones = env_info.local_done                        # see if episode finished\n",
    "        scores += env_info.rewards                         # update the score (for each agent)\n",
    "        states = next_states                               # roll over states to next time step\n",
    "        if np.any(dones):                                  # exit loop if episode finished\n",
    "            break\n",
    "    print('Total score (averaged over agents) this episode: {}'.format(np.mean(scores)))"
   ]
  },
  {
   "cell_type": "markdown",
   "metadata": {},
   "source": [
    "### 4. It's Your Turn!\n",
    "\n",
    "Now it's your turn to train your own agent to solve the environment!  A few **important notes**:\n",
    "- When training the environment, set `train_mode=True`, so that the line for resetting the environment looks like the following:\n",
    "```python\n",
    "env_info = env.reset(train_mode=True)[brain_name]\n",
    "```\n",
    "- To structure your work, you're welcome to work directly in this Jupyter notebook, or you might like to start over with a new file!  You can see the list of files in the workspace by clicking on **_Jupyter_** in the top left corner of the notebook.\n",
    "- In this coding environment, you will not be able to watch the agents while they are training.  However, **_after training the agents_**, you can download the saved model weights to watch the agents on your own machine! "
   ]
  },
  {
   "cell_type": "markdown",
   "metadata": {},
   "source": [
    "## 5. Import the necessary packages"
   ]
  },
  {
   "cell_type": "code",
   "execution_count": 6,
   "metadata": {},
   "outputs": [],
   "source": [
    "import time\n",
    "import gym\n",
    "import random\n",
    "import torch\n",
    "from collections import deque\n",
    "import matplotlib.pyplot as plt\n",
    "%matplotlib inline\n",
    "\n",
    "#from ddpg_multi_agent import DdpgMultiAgent\n",
    "from ddpg_agent import Agent"
   ]
  },
  {
   "cell_type": "markdown",
   "metadata": {},
   "source": [
    "## 6. Instantiate the Agent"
   ]
  },
  {
   "cell_type": "code",
   "execution_count": 7,
   "metadata": {},
   "outputs": [],
   "source": [
    "#agent = DdpgMultiAgent(state_size=state_size, action_size=action_size, num_agents=num_agents, random_seed=0)\n",
    "agent = Agent(state_size=state_size, action_size=action_size, random_seed=42)"
   ]
  },
  {
   "cell_type": "markdown",
   "metadata": {},
   "source": [
    "## 7. Train the Agent with DDPG"
   ]
  },
  {
   "cell_type": "code",
   "execution_count": 8,
   "metadata": {},
   "outputs": [],
   "source": [
    "#def ddpg(n_episodes=5000, max_t=1000, print_every=50, target_score=0.5):\n",
    "def ddpg(n_episodes=3000, max_t=1000, print_every=50, target_score=0.5, learn_period=30, num_samples=20):\n",
    "    all_scores_deque = deque(maxlen=print_every)\n",
    "    all_scores = []\n",
    "    scores_avg = []\n",
    "    solved_flag = True # to print only the first time that the target score is achieved\n",
    "    for i_episode in range(1, n_episodes+1):\n",
    "        env_info = env.reset(train_mode=True)[brain_name]      # reset the environment    \n",
    "        states = env_info.vector_observations                  # get the current state (for each agent)\n",
    "        scores = np.zeros(num_agents)                          # initialize the score (for each agent)\n",
    "        agent.reset()\n",
    "        start_time = time.time()\n",
    "        for t in range(max_t):\n",
    "            actions = agent.act(states)                        # select an action (for each agent)\n",
    "            env_info = env.step(actions)[brain_name]           # send all actions to tne environment\n",
    "            next_states = env_info.vector_observations         # get next state (for each agent)\n",
    "            rewards = env_info.rewards                         # get reward (for each agent)\n",
    "            dones = env_info.local_done                        # see if episode finished\n",
    "            \n",
    "            #agent.step(states, actions, rewards, next_states, dones)            \n",
    "            \n",
    "            for state, action, reward, next_state, done in zip(states, actions, rewards, next_states, dones):\n",
    "                agent.step(state, action, reward, next_state, done)            \n",
    "            scores += env_info.rewards                         # update the score (for each agent)\n",
    "            states = next_states                               # roll over states to next time step\n",
    "            if t % learn_period == 0:\n",
    "                for sample in range(num_samples):\n",
    "                    agent.start_learn()\n",
    "                    \n",
    "            scores += env_info.rewards                         # update the score (for each agent)\n",
    "            states = next_states                               # roll over states to next time step\n",
    "\n",
    "            if np.any(dones):\n",
    "                break \n",
    "        all_scores_deque.append(np.mean(scores))\n",
    "        all_scores.append(np.mean(scores))\n",
    "        scores_avg.append(np.mean(all_scores_deque))\n",
    "        duration = time.time() - start_time\n",
    "        \n",
    "        print('\\rEpisode {}\\tAverage Score: {:.2f}'.format(i_episode, np.mean(all_scores_deque)), end=\"\")\n",
    "\n",
    "        if i_episode % print_every == 0:\n",
    "            print('\\rEpisode {}\\tAverage Score: {:.2f}\\tEpisode Duration: {:.2f}'.format(i_episode, np.mean(all_scores_deque), duration))\n",
    "        if np.mean(all_scores_deque) >= target_score:\n",
    "            if solved_flag==True:\n",
    "                print('\\nEnvironment solved in {:d} episodes!\\tAverage Score: {:.2f}'.format(i_episode, np.mean(all_scores_deque)))\n",
    "                solved_flag = False\n",
    "                max_score = np.mean(all_scores_deque)\n",
    "                torch.save(agent.actor_local.state_dict(), 'checkpoint_actor.pth')\n",
    "                torch.save(agent.critic_local.state_dict(), 'checkpoint_critic.pth')\n",
    "            if np.mean(all_scores_deque) > max_score:\n",
    "                max_score = np.mean(all_scores_deque)\n",
    "                torch.save(agent.actor_local.state_dict(), 'checkpoint_actor.pth')\n",
    "                torch.save(agent.critic_local.state_dict(), 'checkpoint_critic.pth')\n",
    "    return all_scores, scores_avg"
   ]
  },
  {
   "cell_type": "code",
   "execution_count": 9,
   "metadata": {},
   "outputs": [
    {
     "name": "stdout",
     "output_type": "stream",
     "text": [
      "Episode 31\tAverage Score: -0.00"
     ]
    },
    {
     "name": "stderr",
     "output_type": "stream",
     "text": [
      "/home/workspace/ddpg_agent.py:105: UserWarning: torch.nn.utils.clip_grad_norm is now deprecated in favor of torch.nn.utils.clip_grad_norm_.\n",
      "  torch.nn.utils.clip_grad_norm(self.critic_local.parameters(), 1)\n"
     ]
    },
    {
     "name": "stdout",
     "output_type": "stream",
     "text": [
      "Episode 50\tAverage Score: -0.00\tEpisode Duration: 0.60\n",
      "Episode 100\tAverage Score: -0.01\tEpisode Duration: 0.62\n",
      "Episode 150\tAverage Score: -0.01\tEpisode Duration: 0.61\n",
      "Episode 200\tAverage Score: 0.02\tEpisode Duration: 0.58\n",
      "Episode 250\tAverage Score: 0.02\tEpisode Duration: 0.60\n",
      "Episode 300\tAverage Score: 0.01\tEpisode Duration: 0.61\n",
      "Episode 350\tAverage Score: -0.01\tEpisode Duration: 0.64\n",
      "Episode 400\tAverage Score: 0.00\tEpisode Duration: 0.63\n",
      "Episode 450\tAverage Score: 0.05\tEpisode Duration: 0.61\n",
      "Episode 500\tAverage Score: 0.13\tEpisode Duration: 1.34\n",
      "Episode 550\tAverage Score: 0.20\tEpisode Duration: 1.28\n",
      "Episode 600\tAverage Score: 0.35\tEpisode Duration: 0.72\n",
      "Episode 650\tAverage Score: 0.11\tEpisode Duration: 0.71\n",
      "Episode 700\tAverage Score: 0.16\tEpisode Duration: 4.17\n",
      "Episode 750\tAverage Score: 0.27\tEpisode Duration: 0.65\n",
      "Episode 800\tAverage Score: 0.35\tEpisode Duration: 1.33\n",
      "Episode 850\tAverage Score: 0.22\tEpisode Duration: 0.65\n",
      "Episode 900\tAverage Score: 0.30\tEpisode Duration: 2.04\n",
      "Episode 950\tAverage Score: 0.27\tEpisode Duration: 2.17\n",
      "Episode 1000\tAverage Score: 0.42\tEpisode Duration: 2.06\n",
      "Episode 1050\tAverage Score: 0.35\tEpisode Duration: 1.43\n",
      "Episode 1100\tAverage Score: 0.27\tEpisode Duration: 1.45\n",
      "Episode 1150\tAverage Score: 0.36\tEpisode Duration: 1.49\n",
      "Episode 1200\tAverage Score: 0.27\tEpisode Duration: 0.74\n",
      "Episode 1250\tAverage Score: 0.42\tEpisode Duration: 2.09\n",
      "Episode 1287\tAverage Score: 0.51\n",
      "Environment solved in 1287 episodes!\tAverage Score: 0.51\n",
      "Episode 1300\tAverage Score: 0.61\tEpisode Duration: 1.43\n",
      "Episode 1350\tAverage Score: 0.62\tEpisode Duration: 0.71\n",
      "Episode 1400\tAverage Score: 0.61\tEpisode Duration: 3.08\n",
      "Episode 1450\tAverage Score: 0.50\tEpisode Duration: 2.29\n",
      "Episode 1500\tAverage Score: 0.58\tEpisode Duration: 3.93\n",
      "Episode 1550\tAverage Score: 0.69\tEpisode Duration: 8.96\n",
      "Episode 1600\tAverage Score: 0.61\tEpisode Duration: 1.68\n",
      "Episode 1650\tAverage Score: 0.36\tEpisode Duration: 1.68\n",
      "Episode 1700\tAverage Score: 0.41\tEpisode Duration: 2.48\n",
      "Episode 1750\tAverage Score: 0.34\tEpisode Duration: 1.66\n",
      "Episode 1800\tAverage Score: 0.66\tEpisode Duration: 4.44\n",
      "Episode 1850\tAverage Score: 0.66\tEpisode Duration: 3.61\n",
      "Episode 1900\tAverage Score: 0.69\tEpisode Duration: 0.88\n",
      "Episode 1950\tAverage Score: 0.76\tEpisode Duration: 0.92\n",
      "Episode 2000\tAverage Score: 0.67\tEpisode Duration: 0.92\n",
      "Episode 2050\tAverage Score: 0.74\tEpisode Duration: 5.08\n",
      "Episode 2100\tAverage Score: 0.69\tEpisode Duration: 3.05\n",
      "Episode 2150\tAverage Score: 0.88\tEpisode Duration: 12.56\n",
      "Episode 2200\tAverage Score: 0.73\tEpisode Duration: 3.16\n",
      "Episode 2250\tAverage Score: 0.76\tEpisode Duration: 12.12\n",
      "Episode 2300\tAverage Score: 0.72\tEpisode Duration: 23.58\n",
      "Episode 2350\tAverage Score: 0.68\tEpisode Duration: 8.14\n",
      "Episode 2400\tAverage Score: 0.64\tEpisode Duration: 2.29\n",
      "Episode 2450\tAverage Score: 0.89\tEpisode Duration: 8.47\n",
      "Episode 2500\tAverage Score: 0.60\tEpisode Duration: 4.83\n",
      "Episode 2550\tAverage Score: 0.80\tEpisode Duration: 2.52\n",
      "Episode 2600\tAverage Score: 0.72\tEpisode Duration: 6.43\n",
      "Episode 2650\tAverage Score: 0.59\tEpisode Duration: 21.49\n",
      "Episode 2700\tAverage Score: 1.71\tEpisode Duration: 8.41\n",
      "Episode 2750\tAverage Score: 1.17\tEpisode Duration: 13.23\n",
      "Episode 2800\tAverage Score: 0.86\tEpisode Duration: 3.00\n",
      "Episode 2850\tAverage Score: 0.75\tEpisode Duration: 7.59\n",
      "Episode 2900\tAverage Score: 0.67\tEpisode Duration: 7.77\n",
      "Episode 2950\tAverage Score: 1.08\tEpisode Duration: 22.62\n",
      "Episode 3000\tAverage Score: 0.97\tEpisode Duration: 43.22\n"
     ]
    }
   ],
   "source": [
    "scores, scores_avg = ddpg()"
   ]
  },
  {
   "cell_type": "code",
   "execution_count": 10,
   "metadata": {},
   "outputs": [
    {
     "data": {
      "image/png": "[encoded data removed]",
      "text/plain": [
       "<matplotlib.figure.Figure at 0x7efb9cbfda58>"
      ]
     },
     "metadata": {
      "needs_background": "light"
     },
     "output_type": "display_data"
    }
   ],
   "source": [
    "import matplotlib\n",
    "matplotlib.rcParams['xtick.labelsize'] = 16\n",
    "matplotlib.rcParams['ytick.labelsize'] = 16\n",
    "fig = plt.figure(figsize=(15,7))\n",
    "ax = fig.add_subplot(111)\n",
    "plt.plot(np.arange(1, len(scores)+1), scores,'b',label='Episode Scores')\n",
    "plt.plot(np.arange(1, len(scores)+1), scores_avg,'r',\\\n",
    "         linewidth=5,label='Avgearge score')\n",
    "plt.ylabel('Score', fontsize=18)\n",
    "plt.xlabel('Episode #', fontsize=18)\n",
    "ax.legend(fontsize=14)\n",
    "plt.show()"
   ]
  },
  {
   "cell_type": "markdown",
   "metadata": {},
   "source": [
    "When finished, you can close the environment."
   ]
  },
  {
   "cell_type": "code",
   "execution_count": 11,
   "metadata": {},
   "outputs": [],
   "source": [
    "env.close()"
   ]
  }
 ],
 "metadata": {
  "kernelspec": {
   "display_name": "Python 3",
   "language": "python",
   "name": "python3"
  },
  "language_info": {
   "codemirror_mode": {
    "name": "ipython",
    "version": 3
   },
   "file_extension": ".py",
   "mimetype": "text/x-python",
   "name": "python",
   "nbconvert_exporter": "python",
   "pygments_lexer": "ipython3",
   "version": "3.6.3"
  }
 },
 "nbformat": 4,
 "nbformat_minor": 2
}
